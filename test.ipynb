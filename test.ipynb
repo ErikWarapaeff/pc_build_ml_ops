{
 "cells": [
  {
   "cell_type": "code",
   "execution_count": 1,
   "metadata": {},
   "outputs": [
    {
     "name": "stdout",
     "output_type": "stream",
     "text": [
      "Response: Вот последовательность чисел от 1 до 10:\n",
      "\n",
      "1, 2, 3, 4, 5, 6, 7, 8, 9, 10.\n"
     ]
    }
   ],
   "source": [
    "from openai import OpenAI\n",
    "\n",
    "client = OpenAI(\n",
    "    api_key=\"sk-or-vv-7dbd64194ed3105c8dd992f858d78bb991535761728a40b009a1bc069a84d27e\", # ваш ключ в VseGPT после регистрации\n",
    "    base_url=\"https://api.vsegpt.ru/v1\",\n",
    ")\n",
    "\n",
    "prompt = \"Напиши последовательно числа от 1 до 10\"\n",
    "\n",
    "messages = []\n",
    "#messages.append({\"role\": \"system\", \"content\": system_text})\n",
    "messages.append({\"role\": \"user\", \"content\": prompt})\n",
    "\n",
    "response_big = client.chat.completions.create(\n",
    "    model=\"anthropic/claude-3-haiku\", # id модели из списка моделей - можно использовать OpenAI, Anthropic и пр. меняя только этот параметр\n",
    "    messages=messages,\n",
    "    temperature=0.7,\n",
    "    n=1,\n",
    "    max_tokens=3000, # максимальное число ВЫХОДНЫХ токенов. Для большинства моделей не должно превышать 4096\n",
    ")\n",
    "\n",
    "#print(\"Response BIG:\",response_big)\n",
    "response = response_big.choices[0].message.content\n",
    "print(\"Response:\",response)"
   ]
  }
 ],
 "metadata": {
  "kernelspec": {
   "display_name": ".venv_new",
   "language": "python",
   "name": "python3"
  },
  "language_info": {
   "codemirror_mode": {
    "name": "ipython",
    "version": 3
   },
   "file_extension": ".py",
   "mimetype": "text/x-python",
   "name": "python",
   "nbconvert_exporter": "python",
   "pygments_lexer": "ipython3",
   "version": "3.12.0"
  }
 },
 "nbformat": 4,
 "nbformat_minor": 2
}
